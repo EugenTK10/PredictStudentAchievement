{
  "cells": [
    {
      "cell_type": "markdown",
      "metadata": {
        "id": "aQoHn36feq3k"
      },
      "source": [
        "# Logisitic regression for the Open University Learning Analytics Dataset (OULAD)\n",
        "\n",
        "This is done for Research Question 2. The target is to predict if a student will pass or fail a course, using only the information available in the first half of the course duration.\n",
        "\n",
        "Here, we are using the Logistic Regression algorithm and the goal is to have the highest possible AUC. For this, we use methods such as hyperparameter tuning and analyse if recursive feature elimination helps us to achieve our goal."
      ]
    },
    {
      "cell_type": "code",
      "execution_count": 1,
      "metadata": {
        "id": "R7jtybsSe61y"
      },
      "outputs": [],
      "source": [
        "import pandas as pd # import the used libraries\n",
        "import matplotlib.pyplot as plt\n",
        "import pandas as pd\n",
        "import numpy as np\n",
        "from sklearn.model_selection import train_test_split, StratifiedKFold\n",
        "from sklearn.linear_model import LogisticRegression\n",
        "from sklearn.preprocessing import StandardScaler\n",
        "from sklearn.metrics import classification_report\n",
        "from sklearn.metrics import accuracy_score, f1_score, roc_auc_score\n",
        "from sklearn.model_selection import GridSearchCV\n",
        "from sklearn.pipeline import Pipeline\n",
        "from sklearn.feature_selection import RFE"
      ]
    },
    {
      "cell_type": "markdown",
      "metadata": {
        "id": "qjRntxqBYaLF"
      },
      "source": [
        "Read the data created by Q2_Final_dataset_dev.ipynb."
      ]
    },
    {
      "cell_type": "code",
      "execution_count": 5,
      "metadata": {
        "colab": {
          "base_uri": "https://localhost:8080/",
          "height": 287
        },
        "id": "B9E3fCjplLft",
        "outputId": "84a94a9e-2ae9-469c-da2b-68faf3cf236b"
      },
      "outputs": [
        {
          "name": "stdout",
          "output_type": "stream",
          "text": [
            "(23661, 17)\n"
          ]
        },
        {
          "data": {
            "text/html": [
              "<div>\n",
              "<style scoped>\n",
              "    .dataframe tbody tr th:only-of-type {\n",
              "        vertical-align: middle;\n",
              "    }\n",
              "\n",
              "    .dataframe tbody tr th {\n",
              "        vertical-align: top;\n",
              "    }\n",
              "\n",
              "    .dataframe thead th {\n",
              "        text-align: right;\n",
              "    }\n",
              "</style>\n",
              "<table border=\"1\" class=\"dataframe\">\n",
              "  <thead>\n",
              "    <tr style=\"text-align: right;\">\n",
              "      <th></th>\n",
              "      <th>gender</th>\n",
              "      <th>highest_education</th>\n",
              "      <th>imd_band</th>\n",
              "      <th>age_band</th>\n",
              "      <th>num_of_prev_attempts</th>\n",
              "      <th>studied_credits</th>\n",
              "      <th>disability</th>\n",
              "      <th>final_result</th>\n",
              "      <th>sum_click</th>\n",
              "      <th>consistency</th>\n",
              "      <th>TMA_average</th>\n",
              "      <th>CMA_average</th>\n",
              "      <th>TMA_score</th>\n",
              "      <th>CMA_score</th>\n",
              "      <th>Total_average_score</th>\n",
              "      <th>Total_assessment_score</th>\n",
              "      <th>submission_date_average</th>\n",
              "    </tr>\n",
              "  </thead>\n",
              "  <tbody>\n",
              "    <tr>\n",
              "      <th>0</th>\n",
              "      <td>1</td>\n",
              "      <td>3</td>\n",
              "      <td>9.0</td>\n",
              "      <td>2.0</td>\n",
              "      <td>0</td>\n",
              "      <td>240</td>\n",
              "      <td>0</td>\n",
              "      <td>1</td>\n",
              "      <td>710.0</td>\n",
              "      <td>16.754419</td>\n",
              "      <td>81.000000</td>\n",
              "      <td>0.0</td>\n",
              "      <td>4080.0</td>\n",
              "      <td>0.0</td>\n",
              "      <td>81.000000</td>\n",
              "      <td>4080.0</td>\n",
              "      <td>-1.333333</td>\n",
              "    </tr>\n",
              "    <tr>\n",
              "      <th>1</th>\n",
              "      <td>0</td>\n",
              "      <td>3</td>\n",
              "      <td>2.0</td>\n",
              "      <td>1.0</td>\n",
              "      <td>0</td>\n",
              "      <td>60</td>\n",
              "      <td>0</td>\n",
              "      <td>1</td>\n",
              "      <td>986.0</td>\n",
              "      <td>15.279285</td>\n",
              "      <td>69.333333</td>\n",
              "      <td>0.0</td>\n",
              "      <td>3460.0</td>\n",
              "      <td>0.0</td>\n",
              "      <td>69.333333</td>\n",
              "      <td>3460.0</td>\n",
              "      <td>1.666667</td>\n",
              "    </tr>\n",
              "    <tr>\n",
              "      <th>2</th>\n",
              "      <td>0</td>\n",
              "      <td>2</td>\n",
              "      <td>5.0</td>\n",
              "      <td>1.0</td>\n",
              "      <td>0</td>\n",
              "      <td>60</td>\n",
              "      <td>0</td>\n",
              "      <td>1</td>\n",
              "      <td>1382.0</td>\n",
              "      <td>14.551545</td>\n",
              "      <td>72.333333</td>\n",
              "      <td>0.0</td>\n",
              "      <td>3620.0</td>\n",
              "      <td>0.0</td>\n",
              "      <td>72.333333</td>\n",
              "      <td>3620.0</td>\n",
              "      <td>-2.333333</td>\n",
              "    </tr>\n",
              "    <tr>\n",
              "      <th>3</th>\n",
              "      <td>0</td>\n",
              "      <td>1</td>\n",
              "      <td>5.0</td>\n",
              "      <td>0.0</td>\n",
              "      <td>0</td>\n",
              "      <td>60</td>\n",
              "      <td>0</td>\n",
              "      <td>1</td>\n",
              "      <td>799.0</td>\n",
              "      <td>13.276953</td>\n",
              "      <td>54.000000</td>\n",
              "      <td>0.0</td>\n",
              "      <td>2550.0</td>\n",
              "      <td>0.0</td>\n",
              "      <td>54.000000</td>\n",
              "      <td>2550.0</td>\n",
              "      <td>11.666667</td>\n",
              "    </tr>\n",
              "    <tr>\n",
              "      <th>4</th>\n",
              "      <td>1</td>\n",
              "      <td>2</td>\n",
              "      <td>8.0</td>\n",
              "      <td>1.0</td>\n",
              "      <td>0</td>\n",
              "      <td>60</td>\n",
              "      <td>0</td>\n",
              "      <td>1</td>\n",
              "      <td>1312.0</td>\n",
              "      <td>15.250278</td>\n",
              "      <td>74.000000</td>\n",
              "      <td>0.0</td>\n",
              "      <td>3650.0</td>\n",
              "      <td>0.0</td>\n",
              "      <td>74.000000</td>\n",
              "      <td>3650.0</td>\n",
              "      <td>3.333333</td>\n",
              "    </tr>\n",
              "  </tbody>\n",
              "</table>\n",
              "</div>"
            ],
            "text/plain": [
              "   gender  highest_education  imd_band  age_band  num_of_prev_attempts   \n",
              "0       1                  3       9.0       2.0                     0  \\\n",
              "1       0                  3       2.0       1.0                     0   \n",
              "2       0                  2       5.0       1.0                     0   \n",
              "3       0                  1       5.0       0.0                     0   \n",
              "4       1                  2       8.0       1.0                     0   \n",
              "\n",
              "   studied_credits  disability  final_result  sum_click  consistency   \n",
              "0              240           0             1      710.0    16.754419  \\\n",
              "1               60           0             1      986.0    15.279285   \n",
              "2               60           0             1     1382.0    14.551545   \n",
              "3               60           0             1      799.0    13.276953   \n",
              "4               60           0             1     1312.0    15.250278   \n",
              "\n",
              "   TMA_average  CMA_average  TMA_score  CMA_score  Total_average_score   \n",
              "0    81.000000          0.0     4080.0        0.0            81.000000  \\\n",
              "1    69.333333          0.0     3460.0        0.0            69.333333   \n",
              "2    72.333333          0.0     3620.0        0.0            72.333333   \n",
              "3    54.000000          0.0     2550.0        0.0            54.000000   \n",
              "4    74.000000          0.0     3650.0        0.0            74.000000   \n",
              "\n",
              "   Total_assessment_score  submission_date_average  \n",
              "0                  4080.0                -1.333333  \n",
              "1                  3460.0                 1.666667  \n",
              "2                  3620.0                -2.333333  \n",
              "3                  2550.0                11.666667  \n",
              "4                  3650.0                 3.333333  "
            ]
          },
          "execution_count": 5,
          "metadata": {},
          "output_type": "execute_result"
        }
      ],
      "source": [
        "data_encoded = pd.read_csv('../Q2TransitionFolder/Q2_data_encoded.csv')\n",
        "print(data_encoded.shape)\n",
        "data_encoded.head(5)"
      ]
    },
    {
      "cell_type": "code",
      "execution_count": 6,
      "metadata": {},
      "outputs": [],
      "source": [
        "# Separate the target variable, which is 'final_result' from the rest of the independent variables.\n",
        "X = data_encoded.drop(columns=['final_result'])\n",
        "y = data_encoded['final_result']\n",
        "\n",
        "columns = X.columns.tolist()\n",
        "\n",
        "# we choose a random state to have deterministic results\n",
        "RANDOM_STATE = 42"
      ]
    },
    {
      "cell_type": "markdown",
      "metadata": {
        "id": "MuH9Vi_iiV7g"
      },
      "source": [
        "This is the hyperparameter tuning part for Logistic Regression."
      ]
    },
    {
      "cell_type": "code",
      "execution_count": 11,
      "metadata": {
        "colab": {
          "base_uri": "https://localhost:8080/"
        },
        "id": "EW1q8wBTU9qn",
        "outputId": "a67f9db5-e91b-4d82-98e4-80568ef47c37"
      },
      "outputs": [
        {
          "name": "stdout",
          "output_type": "stream",
          "text": [
            "Fitting 3 folds for each of 168 candidates, totalling 504 fits\n",
            "{'classifier__C': 10, 'classifier__max_iter': 10, 'classifier__penalty': 'l2', 'classifier__solver': 'liblinear'}\n"
          ]
        }
      ],
      "source": [
        "# Define a pipeline to standardise the data and train the model\n",
        "pipeline = Pipeline([\n",
        "    ('std', StandardScaler()),\n",
        "    ('classifier', LogisticRegression())\n",
        "])\n",
        "\n",
        "# Define the parameter grid for grid search.\n",
        "param_grid = {\n",
        "    'classifier__C': [0.001, 0.01, 0.1, 1, 10, 100],\n",
        "    'classifier__penalty': ['l1', 'l2'],\n",
        "    'classifier__solver': ['liblinear', 'saga'],\n",
        "    'classifier__max_iter': [10, 50, 100, 300, 500, 1000, 5000],\n",
        "}\n",
        "\n",
        "# We define cross-validation, using stratified k-fold, to ensure proportions.\n",
        "cv = StratifiedKFold(n_splits=3, shuffle=True, random_state=RANDOM_STATE)\n",
        "\n",
        "# Initialise the grid search, targeting to increase the ROC-AUC metric.\n",
        "grid_search = GridSearchCV(estimator=pipeline, param_grid=param_grid,scoring='roc_auc', cv=cv, n_jobs=-1, verbose=2)\n",
        "\n",
        "# Testing the combinations of hyperparameters\n",
        "grid_search.fit(X, y)\n",
        "\n",
        "# Print the best parameters determined by the grid search\n",
        "print(grid_search.best_params_)\n",
        "\n",
        "# Current best set: \n",
        "# {'classifier__C': 10, 'classifier__max_iter': 10, 'classifier__penalty': 'l2', 'classifier__solver': 'liblinear'}"
      ]
    },
    {
      "cell_type": "code",
      "execution_count": 7,
      "metadata": {},
      "outputs": [],
      "source": [
        "# Scale the data using the standard scaler\n",
        "scaler = StandardScaler()\n",
        "X = scaler.fit_transform(X)\n",
        "\n",
        "# Split the data into training and test sets, where 70% is used for training and 30% for testing.\n",
        "X_train, X_test, y_train, y_test = train_test_split(X, y, test_size=0.30, random_state=RANDOM_STATE, stratify=y)"
      ]
    },
    {
      "cell_type": "code",
      "execution_count": 8,
      "metadata": {
        "colab": {
          "base_uri": "https://localhost:8080/"
        },
        "id": "HsWc_AsDL2Ak",
        "outputId": "9b2ca217-1806-4995-86b6-972fba135408"
      },
      "outputs": [
        {
          "name": "stdout",
          "output_type": "stream",
          "text": [
            "Accuracy: 0.7732074940132413\n",
            "F1 Score: 0.825983571119758\n",
            "ROC AUC: 0.8432154720927919\n",
            "              precision    recall  f1-score   support\n",
            "\n",
            "           0       0.74      0.62      0.67      2702\n",
            "           1       0.79      0.87      0.83      4397\n",
            "\n",
            "    accuracy                           0.77      7099\n",
            "   macro avg       0.77      0.74      0.75      7099\n",
            "weighted avg       0.77      0.77      0.77      7099\n",
            "\n"
          ]
        }
      ],
      "source": [
        "# Initialize our classifier using the hyperparameters obtained earlier\n",
        "clf = LogisticRegression(C=10,max_iter=10,penalty='l2',solver='liblinear')\n",
        "\n",
        "# Fit the model on the training data\n",
        "clf.fit(X_train, y_train)\n",
        "\n",
        "# Make predictions on the test data\n",
        "y_pred = clf.predict(X_test)\n",
        "\n",
        "# Calculate accuracy\n",
        "accuracy = accuracy_score(y_test, y_pred)\n",
        "print(f\"Accuracy: {accuracy}\")\n",
        "\n",
        "# Calculate F1 score\n",
        "f1 = f1_score(y_test, y_pred)\n",
        "print(f\"F1 Score: {f1}\")\n",
        "\n",
        "# Calculate ROC AUC\n",
        "roc_auc = roc_auc_score(y_test, clf.predict_proba(X_test)[:,1])\n",
        "print(f\"ROC AUC: {roc_auc}\")\n",
        "\n",
        "# Print detailed classification report\n",
        "print(classification_report(y_test, y_pred))"
      ]
    },
    {
      "cell_type": "code",
      "execution_count": 7,
      "metadata": {
        "colab": {
          "base_uri": "https://localhost:8080/"
        },
        "id": "3d0rjAoBcPTu",
        "outputId": "517919f2-91b7-4976-fecf-26291c074f7b"
      },
      "outputs": [
        {
          "name": "stdout",
          "output_type": "stream",
          "text": [
            "Best number of features: 16 with ROC AUC: 0.8432154720927919\n",
            "Best feature set: ['gender', 'highest_education', 'imd_band', 'age_band', 'num_of_prev_attempts', 'studied_credits', 'disability', 'sum_click', 'consistency', 'TMA_average', 'CMA_average', 'TMA_score', 'CMA_score', 'Total_average_score', 'Total_assessment_score', 'submission_date_average']\n"
          ]
        }
      ],
      "source": [
        "best_roc_auc = 0\n",
        "best_num_features = 0\n",
        "best_feature_set = None # To store the best set of features\n",
        "all_roc_aucs = [] # List to store all ROC AUCs\n",
        "\n",
        "for i in range(1, 17):\n",
        "    # Initialize the Recursive Feature Elimination (RFE)\n",
        "    rfe = RFE(estimator=LogisticRegression(C=10,max_iter=10,penalty='l2',solver='liblinear',random_state=RANDOM_STATE), n_features_to_select=i)\n",
        "\n",
        "    # Fit RFE on the training data\n",
        "    rfe.fit(X_train, y_train)\n",
        "\n",
        "    # Predict probability scores for the test set\n",
        "    y_pred_proba_rfe = rfe.predict_proba(X_test)[:, 1]\n",
        "\n",
        "    # Calculate the ROC AUC score for the predictions\n",
        "    roc_auc = roc_auc_score(y_test, y_pred_proba_rfe)\n",
        "    all_roc_aucs.append(roc_auc)\n",
        "\n",
        "    # If the current ROC AUC score is better than our best, update our best metrics\n",
        "    if roc_auc > best_roc_auc:\n",
        "        best_roc_auc = roc_auc\n",
        "        best_num_features = i\n",
        "        best_feature_set = [col for col, selected in zip(columns, rfe.support_) if selected]\n",
        "\n",
        "# Results\n",
        "print(f\"Best number of features: {best_num_features} with ROC AUC: {best_roc_auc}\")\n",
        "print(f\"Best feature set: {best_feature_set}\")"
      ]
    },
    {
      "cell_type": "code",
      "execution_count": 8,
      "metadata": {
        "colab": {
          "base_uri": "https://localhost:8080/",
          "height": 564
        },
        "id": "2GC25xSNs2wZ",
        "outputId": "078198cc-7787-43c6-de02-74cc5720ab93"
      },
      "outputs": [
        {
          "data": {
            "image/png": "[encoded data removed]",
            "text/plain": [
              "<Figure size 1000x600 with 1 Axes>"
            ]
          },
          "metadata": {},
          "output_type": "display_data"
        }
      ],
      "source": [
        "# # Visualization of the stages values for RFE\n",
        "plt.figure(figsize=(10, 6))\n",
        "plt.plot(range(1, 17), all_roc_aucs, marker='o', linestyle='--')\n",
        "plt.title('ROC AUC Score vs. Number of Selected Features')\n",
        "plt.xlabel('Number of Selected Features')\n",
        "plt.ylabel('ROC AUC Score')\n",
        "plt.xticks(np.arange(1, 17, 1))\n",
        "plt.grid(True)\n",
        "plt.show()"
      ]
    }
  ],
  "metadata": {
    "colab": {
      "provenance": []
    },
    "kernelspec": {
      "display_name": "Python 3",
      "name": "python3"
    },
    "language_info": {
      "codemirror_mode": {
        "name": "ipython",
        "version": 3
      },
      "file_extension": ".py",
      "mimetype": "text/x-python",
      "name": "python",
      "nbconvert_exporter": "python",
      "pygments_lexer": "ipython3",
      "version": "3.10.7"
    }
  },
  "nbformat": 4,
  "nbformat_minor": 0
}
