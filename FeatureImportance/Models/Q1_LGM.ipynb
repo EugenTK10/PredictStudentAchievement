{
  "cells": [
    {
      "cell_type": "markdown",
      "metadata": {
        "id": "vjlda-wWo2ik"
      },
      "source": [
        "# LightGBM for the Open University Learning Analytics Dataset (OULAD)\n",
        "\n",
        "This is done for Research Question 1. The target is to find what are the most important features when predicting student achievement. The features are built using information from the entire duration of the course.\n",
        "\n",
        "Here, we are using the LightGBM algorithm and the goal is to have the highest possible accuracy. For this, we use methods such as hyperparameter tuning and analyse if recursive feature elimination helps us to achieve our goal. Nonetheless, we use 4 methods to find the most important features."
      ]
    },
    {
      "cell_type": "code",
      "execution_count": 1,
      "metadata": {
        "colab": {
          "base_uri": "https://localhost:8080/"
        },
        "id": "Gt0CnN9LSIAg",
        "outputId": "d1720761-6949-4d93-b0d6-f241b656b69b"
      },
      "outputs": [
        {
          "name": "stderr",
          "output_type": "stream",
          "text": [
            "Using `tqdm.autonotebook.tqdm` in notebook mode. Use `tqdm.tqdm` instead to force console mode (e.g. in jupyter console)\n"
          ]
        }
      ],
      "source": [
        "import pandas as pd # import the used libraries\n",
        "import matplotlib.pyplot as plt\n",
        "import shap # use pip install shap command to install the library\n",
        "import numpy as np\n",
        "from lightgbm import LGBMClassifier\n",
        "from sklearn.model_selection import train_test_split, StratifiedKFold, GridSearchCV\n",
        "from sklearn.metrics import accuracy_score, f1_score, roc_auc_score, classification_report\n",
        "from sklearn.feature_selection import RFE"
      ]
    },
    {
      "cell_type": "markdown",
      "metadata": {
        "id": "Ek1VkOADYSoG"
      },
      "source": [
        "Read the data created by Q1_Final_dataset_dev.ipynb."
      ]
    },
    {
      "cell_type": "code",
      "execution_count": 2,
      "metadata": {
        "colab": {
          "base_uri": "https://localhost:8080/",
          "height": 287
        },
        "id": "40__KpTESQVV",
        "outputId": "458e4524-75ea-4449-d5e0-75830b9148c2"
      },
      "outputs": [
        {
          "name": "stdout",
          "output_type": "stream",
          "text": [
            "(20285, 17)\n"
          ]
        },
        {
          "data": {
            "text/html": [
              "<div>\n",
              "<style scoped>\n",
              "    .dataframe tbody tr th:only-of-type {\n",
              "        vertical-align: middle;\n",
              "    }\n",
              "\n",
              "    .dataframe tbody tr th {\n",
              "        vertical-align: top;\n",
              "    }\n",
              "\n",
              "    .dataframe thead th {\n",
              "        text-align: right;\n",
              "    }\n",
              "</style>\n",
              "<table border=\"1\" class=\"dataframe\">\n",
              "  <thead>\n",
              "    <tr style=\"text-align: right;\">\n",
              "      <th></th>\n",
              "      <th>gender</th>\n",
              "      <th>highest_education</th>\n",
              "      <th>imd_band</th>\n",
              "      <th>age_band</th>\n",
              "      <th>num_of_prev_attempts</th>\n",
              "      <th>studied_credits</th>\n",
              "      <th>disability</th>\n",
              "      <th>final_result</th>\n",
              "      <th>sum_click</th>\n",
              "      <th>consistency</th>\n",
              "      <th>TMA_average</th>\n",
              "      <th>CMA_average</th>\n",
              "      <th>TMA_score</th>\n",
              "      <th>CMA_score</th>\n",
              "      <th>Total_average_score</th>\n",
              "      <th>Total_assessment_score</th>\n",
              "      <th>submission_date_average</th>\n",
              "    </tr>\n",
              "  </thead>\n",
              "  <tbody>\n",
              "    <tr>\n",
              "      <th>0</th>\n",
              "      <td>1</td>\n",
              "      <td>3</td>\n",
              "      <td>9.0</td>\n",
              "      <td>2.0</td>\n",
              "      <td>0</td>\n",
              "      <td>240</td>\n",
              "      <td>0</td>\n",
              "      <td>1</td>\n",
              "      <td>934.0</td>\n",
              "      <td>13.701990</td>\n",
              "      <td>82.0</td>\n",
              "      <td>0.0</td>\n",
              "      <td>8240.0</td>\n",
              "      <td>0.0</td>\n",
              "      <td>82.0</td>\n",
              "      <td>8240.0</td>\n",
              "      <td>-1.8</td>\n",
              "    </tr>\n",
              "    <tr>\n",
              "      <th>1</th>\n",
              "      <td>0</td>\n",
              "      <td>3</td>\n",
              "      <td>2.0</td>\n",
              "      <td>1.0</td>\n",
              "      <td>0</td>\n",
              "      <td>60</td>\n",
              "      <td>0</td>\n",
              "      <td>1</td>\n",
              "      <td>1435.0</td>\n",
              "      <td>14.307774</td>\n",
              "      <td>66.4</td>\n",
              "      <td>0.0</td>\n",
              "      <td>6540.0</td>\n",
              "      <td>0.0</td>\n",
              "      <td>66.4</td>\n",
              "      <td>6540.0</td>\n",
              "      <td>0.0</td>\n",
              "    </tr>\n",
              "    <tr>\n",
              "      <th>2</th>\n",
              "      <td>0</td>\n",
              "      <td>2</td>\n",
              "      <td>5.0</td>\n",
              "      <td>1.0</td>\n",
              "      <td>0</td>\n",
              "      <td>60</td>\n",
              "      <td>0</td>\n",
              "      <td>1</td>\n",
              "      <td>2158.0</td>\n",
              "      <td>13.366931</td>\n",
              "      <td>76.0</td>\n",
              "      <td>0.0</td>\n",
              "      <td>7630.0</td>\n",
              "      <td>0.0</td>\n",
              "      <td>76.0</td>\n",
              "      <td>7630.0</td>\n",
              "      <td>-2.0</td>\n",
              "    </tr>\n",
              "    <tr>\n",
              "      <th>3</th>\n",
              "      <td>0</td>\n",
              "      <td>1</td>\n",
              "      <td>5.0</td>\n",
              "      <td>0.0</td>\n",
              "      <td>0</td>\n",
              "      <td>60</td>\n",
              "      <td>0</td>\n",
              "      <td>1</td>\n",
              "      <td>1034.0</td>\n",
              "      <td>10.812709</td>\n",
              "      <td>54.4</td>\n",
              "      <td>0.0</td>\n",
              "      <td>5500.0</td>\n",
              "      <td>0.0</td>\n",
              "      <td>54.4</td>\n",
              "      <td>5500.0</td>\n",
              "      <td>11.4</td>\n",
              "    </tr>\n",
              "    <tr>\n",
              "      <th>4</th>\n",
              "      <td>1</td>\n",
              "      <td>2</td>\n",
              "      <td>8.0</td>\n",
              "      <td>1.0</td>\n",
              "      <td>0</td>\n",
              "      <td>60</td>\n",
              "      <td>0</td>\n",
              "      <td>1</td>\n",
              "      <td>2445.0</td>\n",
              "      <td>21.084048</td>\n",
              "      <td>68.0</td>\n",
              "      <td>0.0</td>\n",
              "      <td>6690.0</td>\n",
              "      <td>0.0</td>\n",
              "      <td>68.0</td>\n",
              "      <td>6690.0</td>\n",
              "      <td>2.0</td>\n",
              "    </tr>\n",
              "  </tbody>\n",
              "</table>\n",
              "</div>"
            ],
            "text/plain": [
              "   gender  highest_education  imd_band  age_band  num_of_prev_attempts   \n",
              "0       1                  3       9.0       2.0                     0  \\\n",
              "1       0                  3       2.0       1.0                     0   \n",
              "2       0                  2       5.0       1.0                     0   \n",
              "3       0                  1       5.0       0.0                     0   \n",
              "4       1                  2       8.0       1.0                     0   \n",
              "\n",
              "   studied_credits  disability  final_result  sum_click  consistency   \n",
              "0              240           0             1      934.0    13.701990  \\\n",
              "1               60           0             1     1435.0    14.307774   \n",
              "2               60           0             1     2158.0    13.366931   \n",
              "3               60           0             1     1034.0    10.812709   \n",
              "4               60           0             1     2445.0    21.084048   \n",
              "\n",
              "   TMA_average  CMA_average  TMA_score  CMA_score  Total_average_score   \n",
              "0         82.0          0.0     8240.0        0.0                 82.0  \\\n",
              "1         66.4          0.0     6540.0        0.0                 66.4   \n",
              "2         76.0          0.0     7630.0        0.0                 76.0   \n",
              "3         54.4          0.0     5500.0        0.0                 54.4   \n",
              "4         68.0          0.0     6690.0        0.0                 68.0   \n",
              "\n",
              "   Total_assessment_score  submission_date_average  \n",
              "0                  8240.0                     -1.8  \n",
              "1                  6540.0                      0.0  \n",
              "2                  7630.0                     -2.0  \n",
              "3                  5500.0                     11.4  \n",
              "4                  6690.0                      2.0  "
            ]
          },
          "execution_count": 2,
          "metadata": {},
          "output_type": "execute_result"
        }
      ],
      "source": [
        "data_encoded = pd.read_csv('../Q1TransitionFolder/Q1_data_encoded.csv')\n",
        "print(data_encoded.shape)\n",
        "data_encoded.head(5)"
      ]
    },
    {
      "cell_type": "code",
      "execution_count": 3,
      "metadata": {
        "id": "06X2rs3PSZ3o"
      },
      "outputs": [],
      "source": [
        "# Separate the target variable, which is 'final_result' from the rest of the independent variables.\n",
        "X = data_encoded.drop(columns=['final_result'])\n",
        "y = data_encoded['final_result']\n",
        "\n",
        "# we choose a random state to have deterministic results\n",
        "RANDOM_STATE = 42\n",
        "\n",
        "columns = X.columns.tolist()\n",
        "\n",
        "# Split the data into training and test sets, where 80% is used for training and 20% for testing.\n",
        "X_train, X_test, y_train, y_test = train_test_split(X, y, test_size=0.2, random_state=RANDOM_STATE, stratify=y)"
      ]
    },
    {
      "cell_type": "markdown",
      "metadata": {
        "id": "vTuUHN-mTanG"
      },
      "source": [
        "This is the hyperparameter tuning part for LightGBM."
      ]
    },
    {
      "cell_type": "code",
      "execution_count": 7,
      "metadata": {
        "colab": {
          "base_uri": "https://localhost:8080/"
        },
        "id": "3rrd1SQvKcj4",
        "outputId": "60ca6f57-ea9e-4124-9fd7-c2a861cb2f87"
      },
      "outputs": [
        {
          "name": "stdout",
          "output_type": "stream",
          "text": [
            "Fitting 3 folds for each of 216 candidates, totalling 648 fits\n",
            "[LightGBM] [Warning] min_data_in_leaf is set=30, min_child_samples=20 will be ignored. Current value: min_data_in_leaf=30\n",
            "{'learning_rate': 0.05, 'max_depth': 7, 'min_data_in_leaf': 30, 'n_estimators': 100, 'num_leaves': 31}\n"
          ]
        }
      ],
      "source": [
        "# Initialize classifier with no hyperparameters\n",
        "clf = LGBMClassifier(random_state=RANDOM_STATE)\n",
        "\n",
        "# Define the parameter grid for grid search.\n",
        "param_grid = {\n",
        "    'num_leaves': [31, 127],\n",
        "    'max_depth': [5, 7, 9, -1],\n",
        "    'min_data_in_leaf': [30, 40, 50],\n",
        "    'learning_rate': [0.01, 0.05, 0.1],\n",
        "    'n_estimators': [100, 500, 1000]\n",
        "}\n",
        "\n",
        "# We define cross-validation, using stratified k-fold, to ensure proportions.\n",
        "cv = StratifiedKFold(n_splits=3, shuffle=True, random_state=RANDOM_STATE)\n",
        "\n",
        "# Initialise the grid search, targeting to increase the accuracy metric.\n",
        "grid_search = GridSearchCV(estimator=clf, param_grid=param_grid,scoring='accuracy', cv=cv, n_jobs=-1, verbose=2)\n",
        "\n",
        "# Testing the combinations of hyperparameters\n",
        "grid_search.fit(X, y)\n",
        "\n",
        "# Print the best parameters determined by the grid search\n",
        "print(grid_search.best_params_)\n",
        "\n",
        "# Current best set:\n",
        "# {'learning_rate': 0.05, 'max_depth': 7, 'min_data_in_leaf': 30, 'n_estimators': 100, 'num_leaves': 31}"
      ]
    },
    {
      "cell_type": "code",
      "execution_count": 4,
      "metadata": {
        "colab": {
          "base_uri": "https://localhost:8080/"
        },
        "id": "3j0OAZh84wSS",
        "outputId": "27539fa2-20e6-472e-effd-22163b5f2f24"
      },
      "outputs": [
        {
          "name": "stdout",
          "output_type": "stream",
          "text": [
            "Accuracy: 0.8898200640867636\n",
            "F1 Score: 0.9270204081632654\n",
            "ROC AUC: 0.9381254712895695\n",
            "              precision    recall  f1-score   support\n",
            "\n",
            "           0       0.89      0.68      0.78      1127\n",
            "           1       0.89      0.97      0.93      2930\n",
            "\n",
            "    accuracy                           0.89      4057\n",
            "   macro avg       0.89      0.83      0.85      4057\n",
            "weighted avg       0.89      0.89      0.88      4057\n",
            "\n"
          ]
        }
      ],
      "source": [
        "# Initialize our classifier using the hyperparameters obtained earlier\n",
        "clf = LGBMClassifier(learning_rate = 0.05, max_depth = 7, min_data_in_leaf = 30, n_estimators = 100, num_leaves = 31, random_state=RANDOM_STATE, verbose=-1)\n",
        "\n",
        "# Fit the model on the training data\n",
        "clf.fit(X_train, y_train)\n",
        "\n",
        "# Make predictions on the test data\n",
        "y_pred = clf.predict(X_test)\n",
        "\n",
        "# Calculate accuracy\n",
        "accuracy = accuracy_score(y_test, y_pred)\n",
        "print(f\"Accuracy: {accuracy}\")\n",
        "\n",
        "# Calculate F1 score\n",
        "f1 = f1_score(y_test, y_pred)\n",
        "print(f\"F1 Score: {f1}\")\n",
        "\n",
        "# Calculate ROC AUC\n",
        "roc_auc = roc_auc_score(y_test, clf.predict_proba(X_test)[:,1])\n",
        "print(f\"ROC AUC: {roc_auc}\")\n",
        "\n",
        "# Print detailed classification report\n",
        "print(classification_report(y_test, y_pred))\n"
      ]
    },
    {
      "cell_type": "markdown",
      "metadata": {
        "id": "cGQ77nGgWDOj"
      },
      "source": [
        "# Feature importance analysis\n",
        "\n",
        "In this section, we will analyse the importance of the features. For this, we will use recursive feature elimination, the coefficients of the model, the permutation importance method and SHapley Additive exPlanations (SHAP)"
      ]
    },
    {
      "cell_type": "code",
      "execution_count": 11,
      "metadata": {
        "colab": {
          "base_uri": "https://localhost:8080/"
        },
        "id": "oa2XjUkYwXoC",
        "outputId": "8331b639-60b0-4426-c33a-9f9a47ac1369"
      },
      "outputs": [
        {
          "name": "stdout",
          "output_type": "stream",
          "text": [
            "[LightGBM] [Warning] min_data_in_leaf is set=40, min_child_samples=20 will be ignored. Current value: min_data_in_leaf=40\n",
            "[LightGBM] [Warning] min_data_in_leaf is set=40, min_child_samples=20 will be ignored. Current value: min_data_in_leaf=40\n",
            "[LightGBM] [Warning] min_data_in_leaf is set=40, min_child_samples=20 will be ignored. Current value: min_data_in_leaf=40\n",
            "[LightGBM] [Warning] min_data_in_leaf is set=40, min_child_samples=20 will be ignored. Current value: min_data_in_leaf=40\n",
            "[LightGBM] [Warning] min_data_in_leaf is set=40, min_child_samples=20 will be ignored. Current value: min_data_in_leaf=40\n",
            "[LightGBM] [Warning] min_data_in_leaf is set=40, min_child_samples=20 will be ignored. Current value: min_data_in_leaf=40\n",
            "[LightGBM] [Warning] min_data_in_leaf is set=40, min_child_samples=20 will be ignored. Current value: min_data_in_leaf=40\n",
            "[LightGBM] [Warning] min_data_in_leaf is set=40, min_child_samples=20 will be ignored. Current value: min_data_in_leaf=40\n",
            "[LightGBM] [Warning] min_data_in_leaf is set=40, min_child_samples=20 will be ignored. Current value: min_data_in_leaf=40\n",
            "[LightGBM] [Warning] min_data_in_leaf is set=40, min_child_samples=20 will be ignored. Current value: min_data_in_leaf=40\n",
            "[LightGBM] [Warning] min_data_in_leaf is set=40, min_child_samples=20 will be ignored. Current value: min_data_in_leaf=40\n",
            "[LightGBM] [Warning] min_data_in_leaf is set=40, min_child_samples=20 will be ignored. Current value: min_data_in_leaf=40\n",
            "[LightGBM] [Warning] min_data_in_leaf is set=40, min_child_samples=20 will be ignored. Current value: min_data_in_leaf=40\n",
            "[LightGBM] [Warning] min_data_in_leaf is set=40, min_child_samples=20 will be ignored. Current value: min_data_in_leaf=40\n",
            "[LightGBM] [Warning] min_data_in_leaf is set=40, min_child_samples=20 will be ignored. Current value: min_data_in_leaf=40\n",
            "[LightGBM] [Warning] min_data_in_leaf is set=40, min_child_samples=20 will be ignored. Current value: min_data_in_leaf=40\n",
            "Best number of features: 15 with Accuracy: 0.8912\n",
            "Best feature set: ['gender', 'highest_education', 'imd_band', 'age_band', 'num_of_prev_attempts', 'studied_credits', 'sum_click', 'consistency', 'TMA_average', 'CMA_average', 'TMA_score', 'CMA_score', 'Total_average_score', 'Total_assessment_score', 'submission_date_average']\n"
          ]
        }
      ],
      "source": [
        "best_accuracy = 0\n",
        "best_num_features = 0\n",
        "best_feature_set = None  # To store the best set of features\n",
        "all_accuracies = []  # List to store all accuracies\n",
        "\n",
        "for i in range(1, 17):\n",
        "    # Initialize the Recursive Feature Elimination\n",
        "    rfe = RFE(estimator=LGBMClassifier(learning_rate=0.01, max_depth=7, min_data_in_leaf=40, n_estimators=500, num_leaves=127, random_state=RANDOM_STATE, verbose=-1), n_features_to_select=i)\n",
        "\n",
        "    # Fit RFE on the training data\n",
        "    rfe.fit(X_train, y_train)\n",
        "\n",
        "    # Predict labels for the test set\n",
        "    y_pred_rfe = rfe.predict(X_test)\n",
        "\n",
        "    # Calculate the accuracy for the predictions\n",
        "    accuracy = accuracy_score(y_test, y_pred_rfe)\n",
        "    all_accuracies.append(accuracy)\n",
        "\n",
        "    # If the current accuracy is better than our best, update our best metrics\n",
        "    if accuracy > best_accuracy:\n",
        "        best_accuracy = accuracy\n",
        "        best_num_features = i\n",
        "        best_feature_set = [col for col, selected in zip(X_train.columns, rfe.support_) if selected]\n",
        "\n",
        "# Results\n",
        "print(f\"Best number of features: {best_num_features} with Accuracy: {best_accuracy:.4f}\")\n",
        "print(f\"Best feature set: {best_feature_set}\")\n"
      ]
    },
    {
      "cell_type": "code",
      "execution_count": 12,
      "metadata": {
        "colab": {
          "base_uri": "https://localhost:8080/",
          "height": 564
        },
        "id": "AYn5TNK6x31T",
        "outputId": "2b2ead54-cb94-4387-ce21-ec313c4dc495"
      },
      "outputs": [
        {
          "data": {
            "image/png": "[encoded data removed]",
            "text/plain": [
              "<Figure size 1000x600 with 1 Axes>"
            ]
          },
          "metadata": {},
          "output_type": "display_data"
        }
      ],
      "source": [
        "# Visualization of the accuracy values for RFE\n",
        "plt.figure(figsize=(10, 6))\n",
        "plt.plot(range(1, 17), all_accuracies, marker='o', linestyle='--')\n",
        "plt.title('Accuracy vs. Number of Selected Features')\n",
        "plt.xlabel('Number of Selected Features')\n",
        "plt.ylabel('Accuracy')\n",
        "plt.xticks(np.arange(1, 17, 1))\n",
        "plt.grid(True)\n",
        "plt.show()"
      ]
    },
    {
      "cell_type": "code",
      "execution_count": 6,
      "metadata": {
        "colab": {
          "base_uri": "https://localhost:8080/"
        },
        "id": "EeabHAD2v_eJ",
        "outputId": "a0768f2f-4946-43a4-bb4a-06b401f7d6e2"
      },
      "outputs": [
        {
          "name": "stdout",
          "output_type": "stream",
          "text": [
            "Feature: Total_assessment_score, Importance: 450\n",
            "Feature: sum_click, Importance: 430\n",
            "Feature: submission_date_average, Importance: 319\n",
            "Feature: CMA_average, Importance: 278\n",
            "Feature: Total_average_score, Importance: 276\n",
            "Feature: consistency, Importance: 274\n",
            "Feature: TMA_average, Importance: 256\n",
            "Feature: TMA_score, Importance: 228\n",
            "Feature: CMA_score, Importance: 194\n",
            "Feature: imd_band, Importance: 84\n",
            "Feature: highest_education, Importance: 74\n",
            "Feature: studied_credits, Importance: 54\n",
            "Feature: gender, Importance: 44\n",
            "Feature: disability, Importance: 15\n",
            "Feature: age_band, Importance: 14\n",
            "Feature: num_of_prev_attempts, Importance: 10\n"
          ]
        }
      ],
      "source": [
        "# Get feature importance\n",
        "importances = clf.feature_importances_\n",
        "\n",
        "# Get top 16 features\n",
        "indices = np.argsort(importances)[::-1][:16]\n",
        "for i in indices:\n",
        "    print(f\"Feature: {columns[i]}, Importance: {importances[i]}\")"
      ]
    },
    {
      "cell_type": "code",
      "execution_count": 10,
      "metadata": {
        "colab": {
          "base_uri": "https://localhost:8080/"
        },
        "id": "vlGMWKyNwgSz",
        "outputId": "4550b002-7311-40b4-90fe-8b2f003dbf14"
      },
      "outputs": [
        {
          "name": "stdout",
          "output_type": "stream",
          "text": [
            "Feature: Total_assessment_score, Importance: 0.23662805028346068\n",
            "Feature: TMA_score, Importance: 0.055952674389943335\n",
            "Feature: CMA_average, Importance: 0.027853093418782393\n",
            "Feature: sum_click, Importance: 0.014542765590337736\n",
            "Feature: CMA_score, Importance: 0.014049790485580527\n",
            "Feature: consistency, Importance: 0.007394626571358143\n",
            "Feature: submission_date_average, Importance: 0.003943800838057676\n",
            "Feature: TMA_average, Importance: 0.0017254128666502888\n",
            "Feature: highest_education, Importance: 0.000985950209514419\n",
            "Feature: gender, Importance: 0.0007394626571357588\n",
            "Feature: age_band, Importance: 0.00024648755237854925\n",
            "Feature: disability, Importance: 0.0\n",
            "Feature: num_of_prev_attempts, Importance: 0.0\n",
            "Feature: studied_credits, Importance: -0.00024648755237866027\n",
            "Feature: imd_band, Importance: -0.00024648755237866027\n",
            "Feature: Total_average_score, Importance: -0.0007394626571358698\n"
          ]
        }
      ],
      "source": [
        "def permutation_importance(model, X_val, y_val, metric=accuracy_score, random_seed=RANDOM_STATE):\n",
        "    base_score = metric(y_val, model.predict(X_val))\n",
        "    feature_importances = []\n",
        "\n",
        "    np.random.seed(random_seed)  # Setting the random seed for reproducibility\n",
        "\n",
        "    # Compute feature importances\n",
        "    for column in X_val.columns:\n",
        "        X_val_copy = X_val.copy()\n",
        "        X_val_copy[column] = np.random.permutation(X_val_copy[column].values)\n",
        "\n",
        "        score = metric(y_val, model.predict(X_val_copy))\n",
        "        feature_importances.append(base_score - score)\n",
        "\n",
        "    return np.array(feature_importances)\n",
        "\n",
        "# Get the feature names corresponding to the top importances\n",
        "importances = permutation_importance(clf, X_test, y_test)\n",
        "\n",
        "indices = np.argsort(importances)[::-1][:16]\n",
        "\n",
        "# Zip the values with the names of the columns\n",
        "for i in indices:\n",
        "    print(f\"Feature: {X_test.columns[i]}, Importance: {importances[i]}\")\n"
      ]
    },
    {
      "cell_type": "code",
      "execution_count": 8,
      "metadata": {
        "colab": {
          "base_uri": "https://localhost:8080/"
        },
        "id": "_eN8zDUsw3xa",
        "outputId": "1f3e64a1-d180-4464-8521-004c2503407e"
      },
      "outputs": [
        {
          "name": "stdout",
          "output_type": "stream",
          "text": [
            "Feature: Total_assessment_score, Importance: 1.866544408414666\n",
            "Feature: sum_click, Importance: 0.4032598476893183\n",
            "Feature: TMA_score, Importance: 0.3161634896302965\n",
            "Feature: Total_average_score, Importance: 0.19312470396709455\n",
            "Feature: consistency, Importance: 0.1827670186917587\n",
            "Feature: CMA_average, Importance: 0.16315690364129826\n",
            "Feature: CMA_score, Importance: 0.1604587771646648\n",
            "Feature: submission_date_average, Importance: 0.11129625980554171\n",
            "Feature: highest_education, Importance: 0.10480579137183679\n",
            "Feature: TMA_average, Importance: 0.07700790316329703\n",
            "Feature: gender, Importance: 0.06170561315033648\n",
            "Feature: imd_band, Importance: 0.0558089470386346\n",
            "Feature: studied_credits, Importance: 0.02309993385004078\n",
            "Feature: num_of_prev_attempts, Importance: 0.007018452629832016\n",
            "Feature: disability, Importance: 0.004455152712693345\n",
            "Feature: age_band, Importance: 0.0027304676373058963\n"
          ]
        },
        {
          "name": "stderr",
          "output_type": "stream",
          "text": [
            "LightGBM binary classifier with TreeExplainer shap values output has changed to a list of ndarray\n"
          ]
        }
      ],
      "source": [
        "# Create explainer\n",
        "explainer = shap.TreeExplainer(clf)\n",
        "\n",
        "# Calculate SHAP values\n",
        "shap_values = explainer.shap_values(X_train)\n",
        "\n",
        "# Get mean absolute SHAP values for each feature for the positive class\n",
        "mean_shap_values = np.mean(np.abs(shap_values[1]), axis=0)\n",
        "indices = np.argsort(mean_shap_values)[::-1][:16]\n",
        "\n",
        "# Zip the values with the names of the columns\n",
        "for i in indices:\n",
        "    print(f\"Feature: {columns[i]}, Importance: {mean_shap_values[i]}\")"
      ]
    }
  ],
  "metadata": {
    "colab": {
      "provenance": []
    },
    "kernelspec": {
      "display_name": "Python 3",
      "name": "python3"
    },
    "language_info": {
      "codemirror_mode": {
        "name": "ipython",
        "version": 3
      },
      "file_extension": ".py",
      "mimetype": "text/x-python",
      "name": "python",
      "nbconvert_exporter": "python",
      "pygments_lexer": "ipython3",
      "version": "3.10.7"
    }
  },
  "nbformat": 4,
  "nbformat_minor": 0
}
