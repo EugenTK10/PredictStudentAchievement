{
  "cells": [
    {
      "cell_type": "markdown",
      "metadata": {
        "id": "aQoHn36feq3k"
      },
      "source": [
        "# Logisitic regression for the Open University Learning Analytics Dataset (OULAD)\n",
        "\n",
        "This is done for Research Question 1. The target is to find what are the most important features when predicting student achievement. The features are built using information from the entire duration of the course.\n",
        "\n",
        "Here, we are using the Logistic Regression algorithm and the goal is to have the highest possible accuracy. For this, we use methods such as hyperparameter tuning and analyse if recursive feature elimination helps us to achieve our goal. Nonetheless, we use 4 methods to find the most important features."
      ]
    },
    {
      "cell_type": "code",
      "execution_count": 1,
      "metadata": {
        "colab": {
          "base_uri": "https://localhost:8080/"
        },
        "id": "R7jtybsSe61y",
        "outputId": "2a9216dd-1967-4396-ea4e-4237ee5822d9"
      },
      "outputs": [
        {
          "name": "stderr",
          "output_type": "stream",
          "text": [
            "Using `tqdm.autonotebook.tqdm` in notebook mode. Use `tqdm.tqdm` instead to force console mode (e.g. in jupyter console)\n"
          ]
        }
      ],
      "source": [
        "import pandas as pd # import the used libraries\n",
        "import matplotlib.pyplot as plt\n",
        "import shap # use pip install shap command to install the library\n",
        "import numpy as np\n",
        "from sklearn.model_selection import train_test_split, StratifiedKFold, GridSearchCV\n",
        "from sklearn.linear_model import LogisticRegression\n",
        "from sklearn.preprocessing import StandardScaler\n",
        "from sklearn.metrics import classification_report, accuracy_score, f1_score, roc_auc_score\n",
        "from sklearn.pipeline import Pipeline\n",
        "from sklearn.feature_selection import RFE\n",
        "from sklearn.inspection import permutation_importance\n"
      ]
    },
    {
      "cell_type": "markdown",
      "metadata": {
        "id": "4gkBji1hRA46"
      },
      "source": [
        "Read the data created by Q1_Final_dataset_dev.ipynb."
      ]
    },
    {
      "cell_type": "code",
      "execution_count": 2,
      "metadata": {
        "colab": {
          "base_uri": "https://localhost:8080/",
          "height": 287
        },
        "id": "B9E3fCjplLft",
        "outputId": "1098af5c-3939-4b3b-f7d3-2584faa79784"
      },
      "outputs": [
        {
          "name": "stdout",
          "output_type": "stream",
          "text": [
            "(20285, 17)\n"
          ]
        },
        {
          "data": {
            "text/html": [
              "<div>\n",
              "<style scoped>\n",
              "    .dataframe tbody tr th:only-of-type {\n",
              "        vertical-align: middle;\n",
              "    }\n",
              "\n",
              "    .dataframe tbody tr th {\n",
              "        vertical-align: top;\n",
              "    }\n",
              "\n",
              "    .dataframe thead th {\n",
              "        text-align: right;\n",
              "    }\n",
              "</style>\n",
              "<table border=\"1\" class=\"dataframe\">\n",
              "  <thead>\n",
              "    <tr style=\"text-align: right;\">\n",
              "      <th></th>\n",
              "      <th>gender</th>\n",
              "      <th>highest_education</th>\n",
              "      <th>imd_band</th>\n",
              "      <th>age_band</th>\n",
              "      <th>num_of_prev_attempts</th>\n",
              "      <th>studied_credits</th>\n",
              "      <th>disability</th>\n",
              "      <th>final_result</th>\n",
              "      <th>sum_click</th>\n",
              "      <th>consistency</th>\n",
              "      <th>TMA_average</th>\n",
              "      <th>CMA_average</th>\n",
              "      <th>TMA_score</th>\n",
              "      <th>CMA_score</th>\n",
              "      <th>Total_average_score</th>\n",
              "      <th>Total_assessment_score</th>\n",
              "      <th>submission_date_average</th>\n",
              "    </tr>\n",
              "  </thead>\n",
              "  <tbody>\n",
              "    <tr>\n",
              "      <th>0</th>\n",
              "      <td>1</td>\n",
              "      <td>3</td>\n",
              "      <td>9.0</td>\n",
              "      <td>2.0</td>\n",
              "      <td>0</td>\n",
              "      <td>240</td>\n",
              "      <td>0</td>\n",
              "      <td>1</td>\n",
              "      <td>934.0</td>\n",
              "      <td>13.701990</td>\n",
              "      <td>82.0</td>\n",
              "      <td>0.0</td>\n",
              "      <td>8240.0</td>\n",
              "      <td>0.0</td>\n",
              "      <td>82.0</td>\n",
              "      <td>8240.0</td>\n",
              "      <td>-1.8</td>\n",
              "    </tr>\n",
              "    <tr>\n",
              "      <th>1</th>\n",
              "      <td>0</td>\n",
              "      <td>3</td>\n",
              "      <td>2.0</td>\n",
              "      <td>1.0</td>\n",
              "      <td>0</td>\n",
              "      <td>60</td>\n",
              "      <td>0</td>\n",
              "      <td>1</td>\n",
              "      <td>1435.0</td>\n",
              "      <td>14.307774</td>\n",
              "      <td>66.4</td>\n",
              "      <td>0.0</td>\n",
              "      <td>6540.0</td>\n",
              "      <td>0.0</td>\n",
              "      <td>66.4</td>\n",
              "      <td>6540.0</td>\n",
              "      <td>0.0</td>\n",
              "    </tr>\n",
              "    <tr>\n",
              "      <th>2</th>\n",
              "      <td>0</td>\n",
              "      <td>2</td>\n",
              "      <td>5.0</td>\n",
              "      <td>1.0</td>\n",
              "      <td>0</td>\n",
              "      <td>60</td>\n",
              "      <td>0</td>\n",
              "      <td>1</td>\n",
              "      <td>2158.0</td>\n",
              "      <td>13.366931</td>\n",
              "      <td>76.0</td>\n",
              "      <td>0.0</td>\n",
              "      <td>7630.0</td>\n",
              "      <td>0.0</td>\n",
              "      <td>76.0</td>\n",
              "      <td>7630.0</td>\n",
              "      <td>-2.0</td>\n",
              "    </tr>\n",
              "    <tr>\n",
              "      <th>3</th>\n",
              "      <td>0</td>\n",
              "      <td>1</td>\n",
              "      <td>5.0</td>\n",
              "      <td>0.0</td>\n",
              "      <td>0</td>\n",
              "      <td>60</td>\n",
              "      <td>0</td>\n",
              "      <td>1</td>\n",
              "      <td>1034.0</td>\n",
              "      <td>10.812709</td>\n",
              "      <td>54.4</td>\n",
              "      <td>0.0</td>\n",
              "      <td>5500.0</td>\n",
              "      <td>0.0</td>\n",
              "      <td>54.4</td>\n",
              "      <td>5500.0</td>\n",
              "      <td>11.4</td>\n",
              "    </tr>\n",
              "    <tr>\n",
              "      <th>4</th>\n",
              "      <td>1</td>\n",
              "      <td>2</td>\n",
              "      <td>8.0</td>\n",
              "      <td>1.0</td>\n",
              "      <td>0</td>\n",
              "      <td>60</td>\n",
              "      <td>0</td>\n",
              "      <td>1</td>\n",
              "      <td>2445.0</td>\n",
              "      <td>21.084048</td>\n",
              "      <td>68.0</td>\n",
              "      <td>0.0</td>\n",
              "      <td>6690.0</td>\n",
              "      <td>0.0</td>\n",
              "      <td>68.0</td>\n",
              "      <td>6690.0</td>\n",
              "      <td>2.0</td>\n",
              "    </tr>\n",
              "  </tbody>\n",
              "</table>\n",
              "</div>"
            ],
            "text/plain": [
              "   gender  highest_education  imd_band  age_band  num_of_prev_attempts   \n",
              "0       1                  3       9.0       2.0                     0  \\\n",
              "1       0                  3       2.0       1.0                     0   \n",
              "2       0                  2       5.0       1.0                     0   \n",
              "3       0                  1       5.0       0.0                     0   \n",
              "4       1                  2       8.0       1.0                     0   \n",
              "\n",
              "   studied_credits  disability  final_result  sum_click  consistency   \n",
              "0              240           0             1      934.0    13.701990  \\\n",
              "1               60           0             1     1435.0    14.307774   \n",
              "2               60           0             1     2158.0    13.366931   \n",
              "3               60           0             1     1034.0    10.812709   \n",
              "4               60           0             1     2445.0    21.084048   \n",
              "\n",
              "   TMA_average  CMA_average  TMA_score  CMA_score  Total_average_score   \n",
              "0         82.0          0.0     8240.0        0.0                 82.0  \\\n",
              "1         66.4          0.0     6540.0        0.0                 66.4   \n",
              "2         76.0          0.0     7630.0        0.0                 76.0   \n",
              "3         54.4          0.0     5500.0        0.0                 54.4   \n",
              "4         68.0          0.0     6690.0        0.0                 68.0   \n",
              "\n",
              "   Total_assessment_score  submission_date_average  \n",
              "0                  8240.0                     -1.8  \n",
              "1                  6540.0                      0.0  \n",
              "2                  7630.0                     -2.0  \n",
              "3                  5500.0                     11.4  \n",
              "4                  6690.0                      2.0  "
            ]
          },
          "execution_count": 2,
          "metadata": {},
          "output_type": "execute_result"
        }
      ],
      "source": [
        "data_encoded = pd.read_csv('../Q1TransitionFolder/Q1_data_encoded.csv')\n",
        "print(data_encoded.shape)\n",
        "data_encoded.head(5)"
      ]
    },
    {
      "cell_type": "code",
      "execution_count": 3,
      "metadata": {
        "id": "KBC6dEGcvePx"
      },
      "outputs": [],
      "source": [
        "# Separate the target variable, which is 'final_result' from the rest of the independent variables.\n",
        "X = data_encoded.drop(columns=['final_result'])\n",
        "y = data_encoded['final_result']\n",
        "\n",
        "columns = X.columns.tolist()\n",
        "\n",
        "# we choose a random state to have deterministic results\n",
        "RANDOM_STATE = 42"
      ]
    },
    {
      "cell_type": "markdown",
      "metadata": {
        "id": "rgTkNKs_SDDe"
      },
      "source": [
        "This is the hyperparameter tuning part for Logistic Regression."
      ]
    },
    {
      "cell_type": "code",
      "execution_count": 41,
      "metadata": {
        "colab": {
          "base_uri": "https://localhost:8080/"
        },
        "id": "kknARN-7CT7B",
        "outputId": "acbf2245-9dfb-4801-8911-1531fce39a04"
      },
      "outputs": [
        {
          "name": "stdout",
          "output_type": "stream",
          "text": [
            "Fitting 3 folds for each of 168 candidates, totalling 504 fits\n",
            "{'classifier__C': 100, 'classifier__max_iter': 10, 'classifier__penalty': 'l2', 'classifier__solver': 'liblinear'}\n"
          ]
        }
      ],
      "source": [
        "# Define a pipeline to standardise the data and train the model\n",
        "pipeline = Pipeline([\n",
        "    ('std', StandardScaler()),\n",
        "    ('classifier', LogisticRegression(random_state=RANDOM_STATE))\n",
        "])\n",
        "\n",
        "# Define the parameter grid for grid search.\n",
        "param_grid = {\n",
        "    'classifier__C': [0.001, 0.01, 0.1, 1, 10, 100],\n",
        "    'classifier__penalty': ['l1', 'l2'],\n",
        "    'classifier__solver': ['liblinear', 'saga'],\n",
        "    'classifier__max_iter': [10, 50, 100, 300, 500, 1000, 5000],\n",
        "}\n",
        "\n",
        "# We define cross-validation, using stratified k-fold, to ensure proportions.\n",
        "cv = StratifiedKFold(n_splits=3, shuffle=True, random_state=RANDOM_STATE)\n",
        "\n",
        "# Initialise the grid search, targeting to increase the accuracy metric.\n",
        "grid_search = GridSearchCV(estimator=pipeline, param_grid=param_grid, scoring='accuracy', cv=cv, n_jobs=-1, verbose=2)\n",
        "\n",
        "# Testing the combinations of hyperparameters\n",
        "grid_search.fit(X, y)\n",
        "\n",
        "# Print the best parameters determined by the grid search\n",
        "print(grid_search.best_params_)\n",
        "\n",
        "# Current best set:\n",
        "# {'classifier__C': 100, 'classifier__max_iter': 10, 'classifier__penalty': 'l2', 'classifier__solver': 'liblinear'}"
      ]
    },
    {
      "cell_type": "code",
      "execution_count": 4,
      "metadata": {
        "id": "ITXpiIXzR_1P"
      },
      "outputs": [],
      "source": [
        "# Scale the data using the standard scaler\n",
        "scaler = StandardScaler()\n",
        "X = scaler.fit_transform(X)\n",
        "\n",
        "# Split the data into training and test sets, where 80% is used for training and 20% for testing.\n",
        "X_train, X_test, y_train, y_test = train_test_split(X, y, test_size=0.20, random_state=RANDOM_STATE, stratify=y)"
      ]
    },
    {
      "cell_type": "code",
      "execution_count": 5,
      "metadata": {
        "colab": {
          "base_uri": "https://localhost:8080/"
        },
        "id": "78I-baVwxyMj",
        "outputId": "47bd5d53-e5f1-44fa-e793-d0190af7b93b"
      },
      "outputs": [
        {
          "name": "stdout",
          "output_type": "stream",
          "text": [
            "Accuracy: 0.8439733793443431\n",
            "F1 Score: 0.8949377593360995\n",
            "ROC AUC: 0.8940323005593394\n",
            "              precision    recall  f1-score   support\n",
            "\n",
            "           0       0.76      0.65      0.70      1127\n",
            "           1       0.87      0.92      0.89      2930\n",
            "\n",
            "    accuracy                           0.84      4057\n",
            "   macro avg       0.81      0.78      0.80      4057\n",
            "weighted avg       0.84      0.84      0.84      4057\n",
            "\n"
          ]
        }
      ],
      "source": [
        "# Initialize our classifier using the hyperparameters obtained earlier\n",
        "clf = LogisticRegression(C= 100, max_iter= 10, penalty= 'l2', solver='liblinear',random_state=RANDOM_STATE)\n",
        "\n",
        "# Fit the model on the training data\n",
        "clf.fit(X_train, y_train)\n",
        "\n",
        "# Make predictions on the test data\n",
        "y_pred = clf.predict(X_test)\n",
        "\n",
        "# Calculate accuracy\n",
        "accuracy = accuracy_score(y_test, y_pred)\n",
        "print(f\"Accuracy: {accuracy}\")\n",
        "\n",
        "# Calculate F1 score\n",
        "f1 = f1_score(y_test, y_pred)\n",
        "print(f\"F1 Score: {f1}\")\n",
        "\n",
        "# Calculate ROC AUC\n",
        "roc_auc = roc_auc_score(y_test, clf.predict_proba(X_test)[:,1])\n",
        "print(f\"ROC AUC: {roc_auc}\")\n",
        "\n",
        "# Print detailed classification report\n",
        "print(classification_report(y_test, y_pred))"
      ]
    },
    {
      "cell_type": "markdown",
      "metadata": {
        "id": "mUavuNG4lgZz"
      },
      "source": [
        "# Feature importance analysis\n",
        "\n",
        "In this section, we will analyse the importance of the features. For this, we will use recursive feature elimination, the coefficients of the model, the permutation importance method and SHapley Additive exPlanations (SHAP)"
      ]
    },
    {
      "cell_type": "code",
      "execution_count": 16,
      "metadata": {
        "colab": {
          "base_uri": "https://localhost:8080/"
        },
        "id": "JXSOPTpXVJk_",
        "outputId": "b011c42f-3619-40e1-afb9-e3abd3a206e0"
      },
      "outputs": [
        {
          "name": "stdout",
          "output_type": "stream",
          "text": [
            "Best number of features: 9 with Accuracy: 0.8442198668967217\n",
            "Best feature set: ['gender', 'studied_credits', 'sum_click', 'consistency', 'TMA_average', 'CMA_average', 'TMA_score', 'Total_average_score', 'Total_assessment_score']\n"
          ]
        }
      ],
      "source": [
        "best_accuracy = 0\n",
        "best_num_features = 0\n",
        "best_feature_set = None  # To store the best set of features\n",
        "all_accuracies = []  # List to store all accuracy scores\n",
        "\n",
        "for i in range(1, 17):\n",
        "    # Initialize the Recursive Feature Elimination (RFE)\n",
        "    rfe = RFE(estimator=LogisticRegression(C= 100, max_iter= 10, penalty= 'l2', solver='liblinear', random_state=RANDOM_STATE), n_features_to_select=i)\n",
        "\n",
        "    # Fit RFE on the training data\n",
        "    rfe.fit(X_train, y_train)\n",
        "\n",
        "    # Predict the class labels for the test set\n",
        "    y_pred_rfe = rfe.predict(X_test)\n",
        "\n",
        "    # Calculate the accuracy score for the predictions\n",
        "    accuracy = accuracy_score(y_test, y_pred_rfe)\n",
        "    all_accuracies.append(accuracy)\n",
        "\n",
        "    # If the current accuracy is better than our best, update our best metrics\n",
        "    if accuracy > best_accuracy:\n",
        "        best_accuracy = accuracy\n",
        "        best_num_features = i\n",
        "        best_feature_set = [col for col, selected in zip(columns, rfe.support_) if selected]\n",
        "\n",
        "# Results\n",
        "print(f\"Best number of features: {best_num_features} with Accuracy: {best_accuracy}\")\n",
        "print(f\"Best feature set: {best_feature_set}\")"
      ]
    },
    {
      "cell_type": "code",
      "execution_count": 15,
      "metadata": {
        "colab": {
          "base_uri": "https://localhost:8080/",
          "height": 564
        },
        "id": "FTpf9iWEWJy5",
        "outputId": "5b5048ef-52a0-4920-871f-9173a18a1ec4"
      },
      "outputs": [
        {
          "data": {
            "image/png": "[encoded data removed]",
            "text/plain": [
              "<Figure size 1000x600 with 1 Axes>"
            ]
          },
          "metadata": {},
          "output_type": "display_data"
        }
      ],
      "source": [
        "# Visualization of the accuracy values for RFE\n",
        "plt.figure(figsize=(10, 6))\n",
        "plt.plot(range(1, 17), all_accuracies, marker='o', linestyle='--')\n",
        "plt.title('Accuracy vs. Number of Selected Features')\n",
        "plt.xlabel('Number of Selected Features')\n",
        "plt.ylabel('Accuracy')\n",
        "plt.xticks(np.arange(1, 17, 1))\n",
        "plt.grid(True)\n",
        "plt.show()"
      ]
    },
    {
      "cell_type": "code",
      "execution_count": 6,
      "metadata": {
        "colab": {
          "base_uri": "https://localhost:8080/"
        },
        "id": "dB5eF5PfdK6q",
        "outputId": "a0fa3504-bf1d-488d-8f1d-5a736ee231d2"
      },
      "outputs": [
        {
          "name": "stdout",
          "output_type": "stream",
          "text": [
            "Feature: sum_click, Coefficient: 0.9882744972671734\n",
            "Feature: Total_average_score, Coefficient: 0.8790816850173144\n",
            "Feature: Total_assessment_score, Coefficient: 0.7069281469171422\n",
            "Feature: TMA_score, Coefficient: 0.70114161726536\n",
            "Feature: consistency, Coefficient: -0.4910481702082045\n",
            "Feature: TMA_average, Coefficient: -0.33109078126441466\n",
            "Feature: studied_credits, Coefficient: -0.3301066858683738\n",
            "Feature: gender, Coefficient: -0.30439814291527884\n",
            "Feature: CMA_average, Coefficient: 0.2557238766724138\n",
            "Feature: num_of_prev_attempts, Coefficient: -0.20691171473479633\n",
            "Feature: submission_date_average, Coefficient: -0.13352370311590359\n",
            "Feature: imd_band, Coefficient: 0.0881056883692461\n",
            "Feature: highest_education, Coefficient: 0.08509864498653083\n",
            "Feature: CMA_score, Coefficient: 0.06288261878549918\n",
            "Feature: age_band, Coefficient: 0.04509345558433302\n",
            "Feature: disability, Coefficient: 0.014562667863721733\n"
          ]
        }
      ],
      "source": [
        "# Retrieve the coefficients from the trained model.\n",
        "coefs = clf.coef_[0]\n",
        "\n",
        "# Compute the absolute values of coefficients and sort them\n",
        "top_indices = np.abs(coefs).argsort()[::-1][:16]\n",
        "\n",
        "top_features = np.array(columns)[top_indices]\n",
        "top_coefs = coefs[top_indices]\n",
        "\n",
        "# Zip the values with the names of the columns\n",
        "for feature, coef in zip(top_features, top_coefs):\n",
        "    print(f\"Feature: {feature}, Coefficient: {coef}\")"
      ]
    },
    {
      "cell_type": "code",
      "execution_count": 10,
      "metadata": {
        "colab": {
          "base_uri": "https://localhost:8080/"
        },
        "id": "0koKQYrqd_Ta",
        "outputId": "e1faaf58-e6c1-44da-9300-76ee32edb82a"
      },
      "outputs": [
        {
          "name": "stdout",
          "output_type": "stream",
          "text": [
            "Feature: Total_average_score, Importance: 0.051836332265220594\n",
            "Feature: Total_assessment_score, Importance: 0.03825486812915949\n",
            "Feature: TMA_score, Importance: 0.036036480157752036\n",
            "Feature: sum_click, Importance: 0.027162928272122265\n",
            "Feature: consistency, Importance: 0.01570125708651715\n",
            "Feature: studied_credits, Importance: 0.01538082326842496\n",
            "Feature: TMA_average, Importance: 0.013113137786541783\n",
            "Feature: CMA_average, Importance: 0.011067291101799392\n",
            "Feature: gender, Importance: 0.010130638402760694\n",
            "Feature: submission_date_average, Importance: 0.0032782844466354598\n",
            "Feature: imd_band, Importance: 0.0026620655656889756\n",
            "Feature: num_of_prev_attempts, Importance: 0.0025634705447375116\n",
            "Feature: CMA_score, Importance: 0.001306384027606622\n",
            "Feature: age_band, Importance: 0.001183140251417325\n",
            "Feature: disability, Importance: 0.00022183879714077204\n",
            "Feature: highest_education, Importance: 0.00012324377618931902\n"
          ]
        }
      ],
      "source": [
        "# Compute feature importances\n",
        "result = permutation_importance(clf, X_test, y_test, n_repeats=10, random_state=RANDOM_STATE, scoring=\"accuracy\")\n",
        "\n",
        "top_indices = result.importances_mean.argsort()[::-1][:16]\n",
        "\n",
        "# Get the feature names corresponding to the top importances\n",
        "top_features = [columns[i] for i in top_indices]\n",
        "top_importances = result.importances_mean[top_indices]\n",
        "\n",
        "# Zip the values with the names of the columns\n",
        "for feature, importance in zip(top_features, top_importances):\n",
        "    print(f\"Feature: {feature}, Importance: {importance}\")"
      ]
    },
    {
      "cell_type": "code",
      "execution_count": 15,
      "metadata": {
        "colab": {
          "base_uri": "https://localhost:8080/"
        },
        "id": "Ja2rbjKfg5bS",
        "outputId": "b8e0adda-dfab-41ed-ce4f-9226b4b313a1"
      },
      "outputs": [
        {
          "name": "stdout",
          "output_type": "stream",
          "text": [
            "Feature: sum_click, SHAP value: 0.715818284315157\n",
            "Feature: Total_average_score, SHAP value: 0.6899306932278297\n",
            "Feature: Total_assessment_score, SHAP value: 0.600806824324535\n",
            "Feature: TMA_score, SHAP value: 0.5966406207527969\n",
            "Feature: consistency, SHAP value: 0.3442714622403892\n",
            "Feature: gender, SHAP value: 0.3069075355714177\n",
            "Feature: TMA_average, SHAP value: 0.24320291568143085\n",
            "Feature: studied_credits, SHAP value: 0.24182592258282937\n",
            "Feature: CMA_average, SHAP value: 0.23969156097142624\n",
            "Feature: num_of_prev_attempts, SHAP value: 0.136165665833429\n",
            "Feature: submission_date_average, SHAP value: 0.10993443016737756\n",
            "Feature: imd_band, SHAP value: 0.07660423756464296\n",
            "Feature: highest_education, SHAP value: 0.0723411761692582\n",
            "Feature: CMA_score, SHAP value: 0.04228355805685233\n",
            "Feature: age_band, SHAP value: 0.036367435785277374\n",
            "Feature: disability, SHAP value: 0.011294349459094823\n"
          ]
        }
      ],
      "source": [
        "# Create an explainer object\n",
        "explainer = shap.LinearExplainer(clf, X_train)\n",
        "\n",
        "# Compute SHAP values\n",
        "shap_values = explainer.shap_values(X_train)\n",
        "\n",
        "# Get the mean absolute SHAP values for each feature\n",
        "mean_shap_values = np.mean(np.abs(shap_values), axis=0)\n",
        "\n",
        "# Get indices of the features that have the highest mean SHAP values\n",
        "indices = np.argsort(mean_shap_values)[::-1][:16]\n",
        "\n",
        "# Zip the values with the names of the columns\n",
        "for i in indices:\n",
        "    print(f\"Feature: {columns[i]}, SHAP value: {mean_shap_values[i]}\")\n"
      ]
    }
  ],
  "metadata": {
    "colab": {
      "provenance": []
    },
    "kernelspec": {
      "display_name": "Python 3",
      "name": "python3"
    },
    "language_info": {
      "codemirror_mode": {
        "name": "ipython",
        "version": 3
      },
      "file_extension": ".py",
      "mimetype": "text/x-python",
      "name": "python",
      "nbconvert_exporter": "python",
      "pygments_lexer": "ipython3",
      "version": "3.10.7"
    }
  },
  "nbformat": 4,
  "nbformat_minor": 0
}
