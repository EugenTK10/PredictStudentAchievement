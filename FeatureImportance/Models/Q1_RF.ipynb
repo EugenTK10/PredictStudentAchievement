{
  "cells": [
    {
      "cell_type": "markdown",
      "metadata": {
        "id": "gtcn3tyAETyX"
      },
      "source": [
        "# Random forest for the Open University Learning Analytics Dataset (OULAD)\n",
        "\n",
        "This is done for Research Question 1. The target is to find what are the most important features when predicting student achievement. The features are built using information from the entire duration of the course.\n",
        "\n",
        "Here, we are using the Random Forest algorithm and the goal is to have the highest possible accuracy. For this, we use methods such as hyperparameter tuning and analyse if recursive feature elimination helps us to achieve our goal. Nonetheless, we use 4 methods to find the most important features."
      ]
    },
    {
      "cell_type": "code",
      "execution_count": 1,
      "metadata": {
        "colab": {
          "base_uri": "https://localhost:8080/"
        },
        "id": "_wmjwRpiEbyt",
        "outputId": "4016e20a-211f-4720-a050-2cc7ea6933e7"
      },
      "outputs": [
        {
          "name": "stderr",
          "output_type": "stream",
          "text": [
            "Using `tqdm.autonotebook.tqdm` in notebook mode. Use `tqdm.tqdm` instead to force console mode (e.g. in jupyter console)\n"
          ]
        }
      ],
      "source": [
        "import pandas as pd # import the used libraries\n",
        "import shap # use pip install shap command to install the library\n",
        "import matplotlib.pyplot as plt\n",
        "import numpy as np\n",
        "from sklearn.model_selection import train_test_split, StratifiedKFold, GridSearchCV\n",
        "from sklearn.ensemble import RandomForestClassifier\n",
        "from sklearn.metrics import classification_report, accuracy_score,  f1_score, roc_auc_score\n",
        "from sklearn.inspection import permutation_importance\n",
        "from sklearn.feature_selection import RFE"
      ]
    },
    {
      "cell_type": "markdown",
      "metadata": {
        "id": "vk0ApOHcawpd"
      },
      "source": [
        "Read the data created by Q1_Final_dataset_dev.ipynb."
      ]
    },
    {
      "cell_type": "code",
      "execution_count": 3,
      "metadata": {
        "colab": {
          "base_uri": "https://localhost:8080/",
          "height": 287
        },
        "id": "Ef4LJLLJEglL",
        "outputId": "a86ebef3-25a9-4812-98a4-0993529ec9bd"
      },
      "outputs": [
        {
          "name": "stdout",
          "output_type": "stream",
          "text": [
            "(20285, 17)\n"
          ]
        },
        {
          "data": {
            "text/html": [
              "<div>\n",
              "<style scoped>\n",
              "    .dataframe tbody tr th:only-of-type {\n",
              "        vertical-align: middle;\n",
              "    }\n",
              "\n",
              "    .dataframe tbody tr th {\n",
              "        vertical-align: top;\n",
              "    }\n",
              "\n",
              "    .dataframe thead th {\n",
              "        text-align: right;\n",
              "    }\n",
              "</style>\n",
              "<table border=\"1\" class=\"dataframe\">\n",
              "  <thead>\n",
              "    <tr style=\"text-align: right;\">\n",
              "      <th></th>\n",
              "      <th>gender</th>\n",
              "      <th>highest_education</th>\n",
              "      <th>imd_band</th>\n",
              "      <th>age_band</th>\n",
              "      <th>num_of_prev_attempts</th>\n",
              "      <th>studied_credits</th>\n",
              "      <th>disability</th>\n",
              "      <th>final_result</th>\n",
              "      <th>sum_click</th>\n",
              "      <th>consistency</th>\n",
              "      <th>TMA_average</th>\n",
              "      <th>CMA_average</th>\n",
              "      <th>TMA_score</th>\n",
              "      <th>CMA_score</th>\n",
              "      <th>Total_average_score</th>\n",
              "      <th>Total_assessment_score</th>\n",
              "      <th>submission_date_average</th>\n",
              "    </tr>\n",
              "  </thead>\n",
              "  <tbody>\n",
              "    <tr>\n",
              "      <th>0</th>\n",
              "      <td>1</td>\n",
              "      <td>3</td>\n",
              "      <td>9.0</td>\n",
              "      <td>2.0</td>\n",
              "      <td>0</td>\n",
              "      <td>240</td>\n",
              "      <td>0</td>\n",
              "      <td>1</td>\n",
              "      <td>934.0</td>\n",
              "      <td>13.701990</td>\n",
              "      <td>82.0</td>\n",
              "      <td>0.0</td>\n",
              "      <td>8240.0</td>\n",
              "      <td>0.0</td>\n",
              "      <td>82.0</td>\n",
              "      <td>8240.0</td>\n",
              "      <td>-1.8</td>\n",
              "    </tr>\n",
              "    <tr>\n",
              "      <th>1</th>\n",
              "      <td>0</td>\n",
              "      <td>3</td>\n",
              "      <td>2.0</td>\n",
              "      <td>1.0</td>\n",
              "      <td>0</td>\n",
              "      <td>60</td>\n",
              "      <td>0</td>\n",
              "      <td>1</td>\n",
              "      <td>1435.0</td>\n",
              "      <td>14.307774</td>\n",
              "      <td>66.4</td>\n",
              "      <td>0.0</td>\n",
              "      <td>6540.0</td>\n",
              "      <td>0.0</td>\n",
              "      <td>66.4</td>\n",
              "      <td>6540.0</td>\n",
              "      <td>0.0</td>\n",
              "    </tr>\n",
              "    <tr>\n",
              "      <th>2</th>\n",
              "      <td>0</td>\n",
              "      <td>2</td>\n",
              "      <td>5.0</td>\n",
              "      <td>1.0</td>\n",
              "      <td>0</td>\n",
              "      <td>60</td>\n",
              "      <td>0</td>\n",
              "      <td>1</td>\n",
              "      <td>2158.0</td>\n",
              "      <td>13.366931</td>\n",
              "      <td>76.0</td>\n",
              "      <td>0.0</td>\n",
              "      <td>7630.0</td>\n",
              "      <td>0.0</td>\n",
              "      <td>76.0</td>\n",
              "      <td>7630.0</td>\n",
              "      <td>-2.0</td>\n",
              "    </tr>\n",
              "    <tr>\n",
              "      <th>3</th>\n",
              "      <td>0</td>\n",
              "      <td>1</td>\n",
              "      <td>5.0</td>\n",
              "      <td>0.0</td>\n",
              "      <td>0</td>\n",
              "      <td>60</td>\n",
              "      <td>0</td>\n",
              "      <td>1</td>\n",
              "      <td>1034.0</td>\n",
              "      <td>10.812709</td>\n",
              "      <td>54.4</td>\n",
              "      <td>0.0</td>\n",
              "      <td>5500.0</td>\n",
              "      <td>0.0</td>\n",
              "      <td>54.4</td>\n",
              "      <td>5500.0</td>\n",
              "      <td>11.4</td>\n",
              "    </tr>\n",
              "    <tr>\n",
              "      <th>4</th>\n",
              "      <td>1</td>\n",
              "      <td>2</td>\n",
              "      <td>8.0</td>\n",
              "      <td>1.0</td>\n",
              "      <td>0</td>\n",
              "      <td>60</td>\n",
              "      <td>0</td>\n",
              "      <td>1</td>\n",
              "      <td>2445.0</td>\n",
              "      <td>21.084048</td>\n",
              "      <td>68.0</td>\n",
              "      <td>0.0</td>\n",
              "      <td>6690.0</td>\n",
              "      <td>0.0</td>\n",
              "      <td>68.0</td>\n",
              "      <td>6690.0</td>\n",
              "      <td>2.0</td>\n",
              "    </tr>\n",
              "  </tbody>\n",
              "</table>\n",
              "</div>"
            ],
            "text/plain": [
              "   gender  highest_education  imd_band  age_band  num_of_prev_attempts   \n",
              "0       1                  3       9.0       2.0                     0  \\\n",
              "1       0                  3       2.0       1.0                     0   \n",
              "2       0                  2       5.0       1.0                     0   \n",
              "3       0                  1       5.0       0.0                     0   \n",
              "4       1                  2       8.0       1.0                     0   \n",
              "\n",
              "   studied_credits  disability  final_result  sum_click  consistency   \n",
              "0              240           0             1      934.0    13.701990  \\\n",
              "1               60           0             1     1435.0    14.307774   \n",
              "2               60           0             1     2158.0    13.366931   \n",
              "3               60           0             1     1034.0    10.812709   \n",
              "4               60           0             1     2445.0    21.084048   \n",
              "\n",
              "   TMA_average  CMA_average  TMA_score  CMA_score  Total_average_score   \n",
              "0         82.0          0.0     8240.0        0.0                 82.0  \\\n",
              "1         66.4          0.0     6540.0        0.0                 66.4   \n",
              "2         76.0          0.0     7630.0        0.0                 76.0   \n",
              "3         54.4          0.0     5500.0        0.0                 54.4   \n",
              "4         68.0          0.0     6690.0        0.0                 68.0   \n",
              "\n",
              "   Total_assessment_score  submission_date_average  \n",
              "0                  8240.0                     -1.8  \n",
              "1                  6540.0                      0.0  \n",
              "2                  7630.0                     -2.0  \n",
              "3                  5500.0                     11.4  \n",
              "4                  6690.0                      2.0  "
            ]
          },
          "execution_count": 3,
          "metadata": {},
          "output_type": "execute_result"
        }
      ],
      "source": [
        "data_encoded = pd.read_csv('../Q1TransitionFolder/Q1_data_encoded.csv')\n",
        "print(data_encoded.shape)\n",
        "data_encoded.head(5)"
      ]
    },
    {
      "cell_type": "code",
      "execution_count": 5,
      "metadata": {
        "colab": {
          "base_uri": "https://localhost:8080/"
        },
        "id": "Q-tu_HfSQY23",
        "outputId": "28caada1-df5c-408c-fae4-32e450d67c70"
      },
      "outputs": [],
      "source": [
        "# Separate the target variable, which is 'final_result', from the rest of the independent variables.\n",
        "X = data_encoded.drop(columns=['final_result'])\n",
        "y = data_encoded['final_result']\n",
        "\n",
        "# we choose a random state to have deterministic results\n",
        "RANDOM_STATE = 42\n",
        "\n",
        "columns = X.columns.tolist()\n",
        "\n",
        "# Split the data into training and test sets, where 80% is used for training and 20% for testing.\n",
        "X_train, X_test, y_train, y_test = train_test_split(X, y, test_size=0.2, random_state=RANDOM_STATE, stratify=y)"
      ]
    },
    {
      "cell_type": "markdown",
      "metadata": {
        "id": "lWR2uBr4TeBl"
      },
      "source": [
        "This is the hyperparameter tuning part for Random Forest."
      ]
    },
    {
      "cell_type": "code",
      "execution_count": null,
      "metadata": {
        "colab": {
          "base_uri": "https://localhost:8080/"
        },
        "id": "DTdNSlawF0B3",
        "outputId": "f8b70cc1-d67f-4b0d-fe74-848e130e50a0"
      },
      "outputs": [
        {
          "name": "stdout",
          "output_type": "stream",
          "text": [
            "Fitting 3 folds for each of 144 candidates, totalling 432 fits\n",
            "{'criterion': 'entropy', 'max_depth': 30, 'min_samples_leaf': 2, 'min_samples_split': 2, 'n_estimators': 200}\n"
          ]
        }
      ],
      "source": [
        "# Initialize classifier with no hyperparameters\n",
        "clf = RandomForestClassifier(random_state=RANDOM_STATE)\n",
        "\n",
        "# Define the parameter grid for grid search.\n",
        "param_grid = {\n",
        "    'n_estimators': [100, 200],\n",
        "#   'max_features': ['auto', 'sqrt'],\n",
        "    'max_depth': [10, 20, 30, None],\n",
        "    'min_samples_split': [2, 5, 10],\n",
        "    'min_samples_leaf': [1, 2, 4],\n",
        "#   'bootstrap': [True, False],\n",
        "    'criterion': ['gini', 'entropy'],\n",
        "}\n",
        "\n",
        "# We define cross-validation, using stratified k-fold, to ensure proportions.\n",
        "cv = StratifiedKFold(n_splits=3, shuffle=True, random_state=RANDOM_STATE)\n",
        "\n",
        "# Initialise the grid search, targeting to increase the accuracy metric.\n",
        "grid_search = GridSearchCV(estimator=clf, param_grid=param_grid, scoring='accuracy', cv=cv, n_jobs=-1, verbose=2)\n",
        "\n",
        "# Testing the combinations of hyperparameters\n",
        "grid_search.fit(X, y)\n",
        "\n",
        "# Print the best parameters determined by the grid search\n",
        "print(grid_search.best_params_)\n",
        "\n",
        "# Current best set:\n",
        "# {'criterion': 'entropy', 'max_depth': 30, 'min_samples_leaf': 2, 'min_samples_split': 2, 'n_estimators': 200}"
      ]
    },
    {
      "cell_type": "code",
      "execution_count": 6,
      "metadata": {
        "colab": {
          "base_uri": "https://localhost:8080/"
        },
        "id": "0lA0M3F5BpXv",
        "outputId": "ff4f9728-184e-4b28-caba-552152252895"
      },
      "outputs": [
        {
          "name": "stdout",
          "output_type": "stream",
          "text": [
            "Accuracy: 0.8900665516391423\n",
            "F1 Score: 0.9268132589432228\n",
            "ROC AUC: 0.9361647552625443\n",
            "              precision    recall  f1-score   support\n",
            "\n",
            "           0       0.88      0.70      0.78      1127\n",
            "           1       0.89      0.96      0.93      2930\n",
            "\n",
            "    accuracy                           0.89      4057\n",
            "   macro avg       0.89      0.83      0.85      4057\n",
            "weighted avg       0.89      0.89      0.89      4057\n",
            "\n"
          ]
        }
      ],
      "source": [
        "# Initialize our classifier using the hyperparameters obtained earlier\n",
        "clf = RandomForestClassifier(criterion='entropy', max_depth=30, min_samples_leaf=2, min_samples_split=2,n_estimators=200, random_state=RANDOM_STATE)\n",
        "\n",
        "# Fit the model on the training data\n",
        "clf.fit(X_train, y_train)\n",
        "\n",
        "# Make predictions on the test data\n",
        "y_pred = clf.predict(X_test)\n",
        "\n",
        "# Calculate accuracy\n",
        "accuracy = accuracy_score(y_test, y_pred)\n",
        "print(f\"Accuracy: {accuracy}\")\n",
        "\n",
        "# Calculate F1 score\n",
        "f1 = f1_score(y_test, y_pred)\n",
        "print(f\"F1 Score: {f1}\")\n",
        "\n",
        "# Calculate ROC AUC\n",
        "roc_auc = roc_auc_score(y_test, clf.predict_proba(X_test)[:,1])\n",
        "print(f\"ROC AUC: {roc_auc}\")\n",
        "\n",
        "# Print detailed classification report\n",
        "print(classification_report(y_test, y_pred))"
      ]
    },
    {
      "cell_type": "markdown",
      "metadata": {
        "id": "gn7C7cHOxgD8"
      },
      "source": [
        "# Feature importance analysis\n",
        "\n",
        "In this section, we will analyse the importance of the features. For this, we will use recursive feature elimination, the coefficients of the model, the permutation importance method and SHapley Additive exPlanations (SHAP)"
      ]
    },
    {
      "cell_type": "code",
      "execution_count": null,
      "metadata": {
        "colab": {
          "background_save": true
        },
        "id": "TA7gCJeMoR29",
        "outputId": "05194673-a667-43ad-f84e-c1dfdfb166e5"
      },
      "outputs": [
        {
          "name": "stdout",
          "output_type": "stream",
          "text": [
            "Best number of features: 13 with Accuracy: 0.8917919645057925\n",
            "Best feature set: ['gender', 'highest_education', 'imd_band', 'studied_credits', 'sum_click', 'consistency', 'TMA_average', 'CMA_average', 'TMA_score', 'CMA_score', 'Total_average_score', 'Total_assessment_score', 'submission_date_average']\n"
          ]
        }
      ],
      "source": [
        "best_accuracy = 0\n",
        "best_num_features = 0\n",
        "best_feature_set = None  # To store the best set of features\n",
        "all_accuracies = []  # List to store all accuracies\n",
        "\n",
        "for i in range(1, 17):\n",
        "    # Initialize the Recursive Feature Elimination (RFE)\n",
        "    rfe = RFE(estimator=RandomForestClassifier(criterion='entropy', max_depth=30, min_samples_leaf=2, min_samples_split=2,n_estimators=200, random_state=RANDOM_STATE), n_features_to_select=i)\n",
        "\n",
        "    # Fit RFE on the training data\n",
        "    rfe.fit(X_train, y_train)\n",
        "\n",
        "    # Predict labels for the test set\n",
        "    y_pred_rfe = rfe.predict(X_test)\n",
        "\n",
        "    # Calculate the accuracy for the predictions\n",
        "    accuracy = accuracy_score(y_test, y_pred_rfe)\n",
        "    all_accuracies.append(accuracy)\n",
        "\n",
        "    # If the current accuracy is better than our best, update our best metrics\n",
        "    if accuracy > best_accuracy:\n",
        "        best_accuracy = accuracy\n",
        "        best_num_features = i\n",
        "        best_feature_set = [col for col, selected in zip(X_train.columns, rfe.support_) if selected]\n",
        "\n",
        "# Results\n",
        "print(f\"Best number of features: {best_num_features} with Accuracy: {best_accuracy}\")\n",
        "print(f\"Best feature set: {best_feature_set}\")\n"
      ]
    },
    {
      "cell_type": "code",
      "execution_count": null,
      "metadata": {
        "colab": {
          "base_uri": "https://localhost:8080/",
          "height": 564
        },
        "id": "7Qja26nsopLl",
        "outputId": "5963f703-2a09-4b1d-ea42-142d92c961db"
      },
      "outputs": [
        {
          "data": {
            "image/png": "[encoded data removed]",
            "text/plain": [
              "<Figure size 1000x600 with 1 Axes>"
            ]
          },
          "metadata": {},
          "output_type": "display_data"
        }
      ],
      "source": [
        "# Visualization of the stages values for RFE\n",
        "plt.figure(figsize=(10, 6))\n",
        "plt.plot(range(1, 17), all_accuracies, marker='o', linestyle='--')\n",
        "plt.title('Accuracy vs. Number of Selected Features')\n",
        "plt.xlabel('Number of Selected Features')\n",
        "plt.ylabel('Accuracy')\n",
        "plt.xticks(np.arange(1, 17, 1))\n",
        "plt.grid(True)\n",
        "plt.show()"
      ]
    },
    {
      "cell_type": "code",
      "execution_count": 6,
      "metadata": {
        "colab": {
          "base_uri": "https://localhost:8080/"
        },
        "id": "NhrAqAWNwyNv",
        "outputId": "04a114c2-5b45-46f9-c85b-655e21baec32"
      },
      "outputs": [
        {
          "name": "stdout",
          "output_type": "stream",
          "text": [
            "Feature: Total_assessment_score, Importance: 0.23866280088941735\n",
            "Feature: TMA_score, Importance: 0.2001173226976583\n",
            "Feature: sum_click, Importance: 0.11204355750474639\n",
            "Feature: Total_average_score, Importance: 0.08119650409232974\n",
            "Feature: TMA_average, Importance: 0.06829107043764641\n",
            "Feature: submission_date_average, Importance: 0.05957359177249351\n",
            "Feature: CMA_average, Importance: 0.05911935210168657\n",
            "Feature: consistency, Importance: 0.05839200563169634\n",
            "Feature: CMA_score, Importance: 0.041035469974450345\n",
            "Feature: imd_band, Importance: 0.026009285882992565\n",
            "Feature: studied_credits, Importance: 0.02276756082231841\n",
            "Feature: highest_education, Importance: 0.01178155030469728\n",
            "Feature: gender, Importance: 0.006715590589675529\n",
            "Feature: age_band, Importance: 0.0062505803072934055\n",
            "Feature: num_of_prev_attempts, Importance: 0.00476730997673639\n",
            "Feature: disability, Importance: 0.003276447014161534\n"
          ]
        }
      ],
      "source": [
        "# Get feature importance\n",
        "importances = clf.feature_importances_\n",
        "indices = np.argsort(importances)[::-1][:16]\n",
        "\n",
        "# Zip the values with the names of the columns\n",
        "for i in indices:\n",
        "    print(f\"Feature: {columns[i]}, Importance: {importances[i]}\")"
      ]
    },
    {
      "cell_type": "code",
      "execution_count": 7,
      "metadata": {
        "colab": {
          "base_uri": "https://localhost:8080/"
        },
        "id": "fBiG7UXUwzsO",
        "outputId": "9d3a9c3a-c3ba-476d-e6cd-1febfb495fa5"
      },
      "outputs": [
        {
          "name": "stdout",
          "output_type": "stream",
          "text": [
            "Feature: Total_assessment_score, Importance: 0.09058417549913732\n",
            "Feature: TMA_score, Importance: 0.026596006901651547\n",
            "Feature: CMA_average, Importance: 0.024352970175006226\n",
            "Feature: CMA_score, Importance: 0.010820803549420822\n",
            "Feature: sum_click, Importance: 0.007912250431353306\n",
            "Feature: submission_date_average, Importance: 0.006063593788513755\n",
            "Feature: consistency, Importance: 0.003894503327582033\n",
            "Feature: gender, Importance: 0.0006901651466601266\n",
            "Feature: highest_education, Importance: 0.00051762385999512\n",
            "Feature: age_band, Importance: 0.0003697313285679349\n",
            "Feature: disability, Importance: 0.00032043381809221394\n",
            "Feature: studied_credits, Importance: 0.00024648755237863804\n",
            "Feature: imd_band, Importance: 7.394626571362028e-05\n",
            "Feature: num_of_prev_attempts, Importance: -0.00034508257333002443\n",
            "Feature: TMA_average, Importance: -0.0012077890066551356\n",
            "Feature: Total_average_score, Importance: -0.0014789253142716064\n"
          ]
        }
      ],
      "source": [
        "# Compute feature importances\n",
        "result = permutation_importance(clf, X_test, y_test, n_repeats=10, random_state=RANDOM_STATE)\n",
        "\n",
        "top_indices = result.importances_mean.argsort()[::-1][:16]\n",
        "\n",
        "# Get the feature names corresponding to the top importances\n",
        "top_features = np.array(columns)[top_indices]\n",
        "top_importances = result.importances_mean[top_indices]\n",
        "\n",
        "# Zip the values with the names of the columns\n",
        "for feature, importance in zip(top_features, top_importances):\n",
        "    print(f\"Feature: {feature}, Importance: {importance}\")"
      ]
    },
    {
      "cell_type": "code",
      "execution_count": 6,
      "metadata": {
        "colab": {
          "base_uri": "https://localhost:8080/"
        },
        "id": "OnIb-jbDMznC",
        "outputId": "f6de232b-990f-4a2f-db6a-20a076d823ec"
      },
      "outputs": [
        {
          "name": "stdout",
          "output_type": "stream",
          "text": [
            "Feature: Total_assessment_score, Importance: 0.10811994291091695\n",
            "Feature: TMA_score, Importance: 0.09461483377910293\n",
            "Feature: sum_click, Importance: 0.06136510567402834\n",
            "Feature: Total_average_score, Importance: 0.04150019213753517\n",
            "Feature: CMA_average, Importance: 0.035205114395781265\n",
            "Feature: TMA_average, Importance: 0.0288492225389961\n",
            "Feature: CMA_score, Importance: 0.020701356045915276\n",
            "Feature: submission_date_average, Importance: 0.01994119172385085\n",
            "Feature: consistency, Importance: 0.01884906928410193\n",
            "Feature: studied_credits, Importance: 0.014600876261951038\n",
            "Feature: imd_band, Importance: 0.008257282892016011\n",
            "Feature: highest_education, Importance: 0.008136838092906397\n",
            "Feature: gender, Importance: 0.004355020647106835\n",
            "Feature: num_of_prev_attempts, Importance: 0.002921459084791658\n",
            "Feature: age_band, Importance: 0.002733041466224842\n",
            "Feature: disability, Importance: 0.0016395742374473955\n"
          ]
        }
      ],
      "source": [
        "# Create explainer\n",
        "explainer = shap.TreeExplainer(clf)\n",
        "\n",
        "# Calculate SHAP values\n",
        "shap_values = explainer.shap_values(X_train, approximate=True)\n",
        "\n",
        "# Get mean absolute SHAP values for each feature for the positive class\n",
        "mean_shap_values = np.mean(np.abs(shap_values[1]), axis=0)\n",
        "indices = np.argsort(mean_shap_values)[::-1][:16]\n",
        "\n",
        "# Zip the values with the names of the columns\n",
        "for i in indices:\n",
        "    print(f\"Feature: {columns[i]}, Importance: {mean_shap_values[i]}\")"
      ]
    }
  ],
  "metadata": {
    "colab": {
      "provenance": []
    },
    "kernelspec": {
      "display_name": "Python 3",
      "name": "python3"
    },
    "language_info": {
      "codemirror_mode": {
        "name": "ipython",
        "version": 3
      },
      "file_extension": ".py",
      "mimetype": "text/x-python",
      "name": "python",
      "nbconvert_exporter": "python",
      "pygments_lexer": "ipython3",
      "version": "3.10.7"
    }
  },
  "nbformat": 4,
  "nbformat_minor": 0
}
